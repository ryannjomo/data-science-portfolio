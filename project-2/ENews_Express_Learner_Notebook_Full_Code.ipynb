{
 "cells": [
  {
   "cell_type": "markdown",
   "id": "6yDxo9u0d9Na",
   "metadata": {
    "id": "6yDxo9u0d9Na"
   },
   "source": [
    "# Project Business Statistics: E-news Express\n"
   ]
  },
  {
   "cell_type": "markdown",
   "id": "SrLd-ICEmPSD",
   "metadata": {
    "id": "SrLd-ICEmPSD"
   },
   "source": [
    "## Define Problem Statement and Objectives"
   ]
  },
  {
   "cell_type": "markdown",
   "id": "c206e72f-0534-4ff2-b4ad-d2290eaeaf5d",
   "metadata": {},
   "source": [
    "#### Problem Statement\n",
    "E-news Express aims to increase its new subscribers by improving user engagement on its landing page. The company suspects that a poorly designed webpage may be contributing to the decline in new monthly subscriptions. A redesigned landing page was created to address this, and an A/B test was conducted to assess its effectiveness in increasing user engagement and conversion rates.\n",
    "\n",
    "The objective of this analysis is to determine whether the new landing page performs better than the existing one in terms of user engagement and conversions and to explore the impact of language preference on subscription rates and engagement.\n",
    "\n",
    "#### Objectives\n",
    "\n",
    "1. Analyze user engagement:\n",
    "\n",
    "Compare the time spent by users on the new landing page to the existing one to determine if the new landing page design retains user attention longer.\n",
    "\n",
    "2. Evaluate conversion rates:\n",
    "\n",
    "Compare the conversion rates (percentage of users who switch from the old page to the new one) to assess if the new landing page encourages users to transition.\n",
    "\n",
    "3. Assess the impact of language preference on conversion rates:\n",
    "\n",
    "Investigate whether the likelihood of conversion depends on the user's preferred language using a contingency table.\n",
    "\n",
    "4. Examine time spent by different language users:\n",
    "\n",
    "Determine if the time spent on the new landing page varies significantly across different language preferences.\n",
    "\n",
    "#### Statistical Analysis Plan:\n",
    "\n",
    "1. Conduct a two-sample t-test to compare the time spent on both landing pages.\n",
    "\n",
    "2. Perform a proportion test (Z-test for proportions) to compare the conversion rates.\n",
    "\n",
    "3. Use a chi-square test on a contingency table to check if conversion status is dependent on language preference.\n",
    "\n",
    "4. Conduct an ANOVA test to compare the time spent on the new page across different language groups."
   ]
  },
  {
   "cell_type": "markdown",
   "id": "a6a3d218",
   "metadata": {
    "id": "a6a3d218"
   },
   "source": [
    "## Import all the necessary libraries"
   ]
  },
  {
   "cell_type": "code",
   "execution_count": 1,
   "id": "r_5zUIePGS-1",
   "metadata": {
    "id": "r_5zUIePGS-1"
   },
   "outputs": [],
   "source": [
    "# Installing the libraries with the specified version.\n",
    "#!pip install numpy==1.25.2 pandas==1.5.3 matplotlib==3.7.1 seaborn==0.13.1 scipy==1.11.4 -q --user"
   ]
  },
  {
   "cell_type": "markdown",
   "id": "DAaycw-QP-j9",
   "metadata": {
    "id": "DAaycw-QP-j9"
   },
   "source": [
    "**Note**: *After running the above cell, kindly restart the notebook kernel and run all cells sequentially from the start again.*"
   ]
  },
  {
   "cell_type": "code",
   "execution_count": 2,
   "id": "658c5dec",
   "metadata": {
    "id": "658c5dec"
   },
   "outputs": [],
   "source": [
    "# import libraries for data manipulation\n",
    "import numpy as np\n",
    "import pandas as pd\n",
    "\n",
    "# import libraries for data visualization\n",
    "import matplotlib.pyplot as plt\n",
    "import seaborn as sns\n",
    "\n",
    "# library of statistical functions\n",
    "import scipy.stats as stats"
   ]
  },
  {
   "cell_type": "markdown",
   "id": "6970dd99",
   "metadata": {
    "id": "6970dd99"
   },
   "source": [
    "## Reading the Data into a DataFrame"
   ]
  },
  {
   "cell_type": "code",
   "execution_count": 3,
   "id": "d3b95640",
   "metadata": {
    "id": "d3b95640"
   },
   "outputs": [],
   "source": [
    "# Loading the dataset\n",
    "df = pd.read_csv(\"C:\\\\Users\\\\mardin\\\\Downloads\\\\DATASETS\\\\abtest.csv\")"
   ]
  },
  {
   "cell_type": "markdown",
   "id": "9d75cfa2",
   "metadata": {
    "id": "9d75cfa2"
   },
   "source": [
    "## Explore the dataset and extract insights using Exploratory Data Analysis"
   ]
  },
  {
   "cell_type": "markdown",
   "id": "27201534",
   "metadata": {
    "id": "27201534"
   },
   "source": [
    "- Data Overview\n",
    "  - Viewing the first and last few rows of the dataset\n",
    "  - Checking the shape of the dataset\n",
    "  - Getting the statistical summary for the variables\n",
    "- Check for missing values\n",
    "- Check for duplicates"
   ]
  },
  {
   "cell_type": "code",
   "execution_count": 4,
   "id": "e1ad11d4",
   "metadata": {
    "id": "e1ad11d4"
   },
   "outputs": [
    {
     "data": {
      "text/html": [
       "<div>\n",
       "<style scoped>\n",
       "    .dataframe tbody tr th:only-of-type {\n",
       "        vertical-align: middle;\n",
       "    }\n",
       "\n",
       "    .dataframe tbody tr th {\n",
       "        vertical-align: top;\n",
       "    }\n",
       "\n",
       "    .dataframe thead th {\n",
       "        text-align: right;\n",
       "    }\n",
       "</style>\n",
       "<table border=\"1\" class=\"dataframe\">\n",
       "  <thead>\n",
       "    <tr style=\"text-align: right;\">\n",
       "      <th></th>\n",
       "      <th>user_id</th>\n",
       "      <th>group</th>\n",
       "      <th>landing_page</th>\n",
       "      <th>time_spent_on_the_page</th>\n",
       "      <th>converted</th>\n",
       "      <th>language_preferred</th>\n",
       "    </tr>\n",
       "  </thead>\n",
       "  <tbody>\n",
       "    <tr>\n",
       "      <th>0</th>\n",
       "      <td>546592</td>\n",
       "      <td>control</td>\n",
       "      <td>old</td>\n",
       "      <td>3.48</td>\n",
       "      <td>no</td>\n",
       "      <td>Spanish</td>\n",
       "    </tr>\n",
       "    <tr>\n",
       "      <th>1</th>\n",
       "      <td>546468</td>\n",
       "      <td>treatment</td>\n",
       "      <td>new</td>\n",
       "      <td>7.13</td>\n",
       "      <td>yes</td>\n",
       "      <td>English</td>\n",
       "    </tr>\n",
       "    <tr>\n",
       "      <th>2</th>\n",
       "      <td>546462</td>\n",
       "      <td>treatment</td>\n",
       "      <td>new</td>\n",
       "      <td>4.40</td>\n",
       "      <td>no</td>\n",
       "      <td>Spanish</td>\n",
       "    </tr>\n",
       "    <tr>\n",
       "      <th>3</th>\n",
       "      <td>546567</td>\n",
       "      <td>control</td>\n",
       "      <td>old</td>\n",
       "      <td>3.02</td>\n",
       "      <td>no</td>\n",
       "      <td>French</td>\n",
       "    </tr>\n",
       "    <tr>\n",
       "      <th>4</th>\n",
       "      <td>546459</td>\n",
       "      <td>treatment</td>\n",
       "      <td>new</td>\n",
       "      <td>4.75</td>\n",
       "      <td>yes</td>\n",
       "      <td>Spanish</td>\n",
       "    </tr>\n",
       "  </tbody>\n",
       "</table>\n",
       "</div>"
      ],
      "text/plain": [
       "   user_id      group landing_page  time_spent_on_the_page converted  \\\n",
       "0   546592    control          old                    3.48        no   \n",
       "1   546468  treatment          new                    7.13       yes   \n",
       "2   546462  treatment          new                    4.40        no   \n",
       "3   546567    control          old                    3.02        no   \n",
       "4   546459  treatment          new                    4.75       yes   \n",
       "\n",
       "  language_preferred  \n",
       "0            Spanish  \n",
       "1            English  \n",
       "2            Spanish  \n",
       "3             French  \n",
       "4            Spanish  "
      ]
     },
     "execution_count": 4,
     "metadata": {},
     "output_type": "execute_result"
    }
   ],
   "source": [
    "# Viewing the first five rows of the dataset\n",
    "df.head()"
   ]
  },
  {
   "cell_type": "code",
   "execution_count": 5,
   "id": "902a9688-80c1-4ed4-a225-f1a30c26704b",
   "metadata": {},
   "outputs": [
    {
     "data": {
      "text/html": [
       "<div>\n",
       "<style scoped>\n",
       "    .dataframe tbody tr th:only-of-type {\n",
       "        vertical-align: middle;\n",
       "    }\n",
       "\n",
       "    .dataframe tbody tr th {\n",
       "        vertical-align: top;\n",
       "    }\n",
       "\n",
       "    .dataframe thead th {\n",
       "        text-align: right;\n",
       "    }\n",
       "</style>\n",
       "<table border=\"1\" class=\"dataframe\">\n",
       "  <thead>\n",
       "    <tr style=\"text-align: right;\">\n",
       "      <th></th>\n",
       "      <th>user_id</th>\n",
       "      <th>group</th>\n",
       "      <th>landing_page</th>\n",
       "      <th>time_spent_on_the_page</th>\n",
       "      <th>converted</th>\n",
       "      <th>language_preferred</th>\n",
       "    </tr>\n",
       "  </thead>\n",
       "  <tbody>\n",
       "    <tr>\n",
       "      <th>95</th>\n",
       "      <td>546446</td>\n",
       "      <td>treatment</td>\n",
       "      <td>new</td>\n",
       "      <td>5.15</td>\n",
       "      <td>no</td>\n",
       "      <td>Spanish</td>\n",
       "    </tr>\n",
       "    <tr>\n",
       "      <th>96</th>\n",
       "      <td>546544</td>\n",
       "      <td>control</td>\n",
       "      <td>old</td>\n",
       "      <td>6.52</td>\n",
       "      <td>yes</td>\n",
       "      <td>English</td>\n",
       "    </tr>\n",
       "    <tr>\n",
       "      <th>97</th>\n",
       "      <td>546472</td>\n",
       "      <td>treatment</td>\n",
       "      <td>new</td>\n",
       "      <td>7.07</td>\n",
       "      <td>yes</td>\n",
       "      <td>Spanish</td>\n",
       "    </tr>\n",
       "    <tr>\n",
       "      <th>98</th>\n",
       "      <td>546481</td>\n",
       "      <td>treatment</td>\n",
       "      <td>new</td>\n",
       "      <td>6.20</td>\n",
       "      <td>yes</td>\n",
       "      <td>Spanish</td>\n",
       "    </tr>\n",
       "    <tr>\n",
       "      <th>99</th>\n",
       "      <td>546483</td>\n",
       "      <td>treatment</td>\n",
       "      <td>new</td>\n",
       "      <td>5.86</td>\n",
       "      <td>yes</td>\n",
       "      <td>English</td>\n",
       "    </tr>\n",
       "  </tbody>\n",
       "</table>\n",
       "</div>"
      ],
      "text/plain": [
       "    user_id      group landing_page  time_spent_on_the_page converted  \\\n",
       "95   546446  treatment          new                    5.15        no   \n",
       "96   546544    control          old                    6.52       yes   \n",
       "97   546472  treatment          new                    7.07       yes   \n",
       "98   546481  treatment          new                    6.20       yes   \n",
       "99   546483  treatment          new                    5.86       yes   \n",
       "\n",
       "   language_preferred  \n",
       "95            Spanish  \n",
       "96            English  \n",
       "97            Spanish  \n",
       "98            Spanish  \n",
       "99            English  "
      ]
     },
     "execution_count": 5,
     "metadata": {},
     "output_type": "execute_result"
    }
   ],
   "source": [
    "# Viewing the last five rows of the dataset\n",
    "df.tail()"
   ]
  },
  {
   "cell_type": "code",
   "execution_count": 6,
   "id": "942595da-289a-4a50-b9a8-e9ea977d81cb",
   "metadata": {},
   "outputs": [
    {
     "data": {
      "text/plain": [
       "(100, 6)"
      ]
     },
     "execution_count": 6,
     "metadata": {},
     "output_type": "execute_result"
    }
   ],
   "source": [
    "# Checking the number of rows and columns\n",
    "df.shape"
   ]
  },
  {
   "cell_type": "markdown",
   "id": "af17c6b5-2ab7-45a6-af43-cafceedfc45f",
   "metadata": {},
   "source": [
    "There are 100 rows and 6 columns in the dataset."
   ]
  },
  {
   "cell_type": "code",
   "execution_count": 7,
   "id": "b5c11a75-5359-40b9-b31c-8fb223fc28d5",
   "metadata": {},
   "outputs": [
    {
     "name": "stdout",
     "output_type": "stream",
     "text": [
      "<class 'pandas.core.frame.DataFrame'>\n",
      "RangeIndex: 100 entries, 0 to 99\n",
      "Data columns (total 6 columns):\n",
      " #   Column                  Non-Null Count  Dtype  \n",
      "---  ------                  --------------  -----  \n",
      " 0   user_id                 100 non-null    int64  \n",
      " 1   group                   100 non-null    object \n",
      " 2   landing_page            100 non-null    object \n",
      " 3   time_spent_on_the_page  100 non-null    float64\n",
      " 4   converted               100 non-null    object \n",
      " 5   language_preferred      100 non-null    object \n",
      "dtypes: float64(1), int64(1), object(4)\n",
      "memory usage: 4.8+ KB\n"
     ]
    }
   ],
   "source": [
    "# Checking the data types of the different columns\n",
    "df.info()"
   ]
  },
  {
   "cell_type": "code",
   "execution_count": 8,
   "id": "5083d9df-7d75-4216-9bc4-13261fb1c43a",
   "metadata": {},
   "outputs": [
    {
     "data": {
      "text/html": [
       "<div>\n",
       "<style scoped>\n",
       "    .dataframe tbody tr th:only-of-type {\n",
       "        vertical-align: middle;\n",
       "    }\n",
       "\n",
       "    .dataframe tbody tr th {\n",
       "        vertical-align: top;\n",
       "    }\n",
       "\n",
       "    .dataframe thead th {\n",
       "        text-align: right;\n",
       "    }\n",
       "</style>\n",
       "<table border=\"1\" class=\"dataframe\">\n",
       "  <thead>\n",
       "    <tr style=\"text-align: right;\">\n",
       "      <th></th>\n",
       "      <th>count</th>\n",
       "      <th>mean</th>\n",
       "      <th>std</th>\n",
       "      <th>min</th>\n",
       "      <th>25%</th>\n",
       "      <th>50%</th>\n",
       "      <th>75%</th>\n",
       "      <th>max</th>\n",
       "    </tr>\n",
       "  </thead>\n",
       "  <tbody>\n",
       "    <tr>\n",
       "      <th>user_id</th>\n",
       "      <td>100.0</td>\n",
       "      <td>546517.0000</td>\n",
       "      <td>52.295779</td>\n",
       "      <td>546443.00</td>\n",
       "      <td>546467.75</td>\n",
       "      <td>546492.500</td>\n",
       "      <td>546567.2500</td>\n",
       "      <td>546592.00</td>\n",
       "    </tr>\n",
       "    <tr>\n",
       "      <th>time_spent_on_the_page</th>\n",
       "      <td>100.0</td>\n",
       "      <td>5.3778</td>\n",
       "      <td>2.378166</td>\n",
       "      <td>0.19</td>\n",
       "      <td>3.88</td>\n",
       "      <td>5.415</td>\n",
       "      <td>7.0225</td>\n",
       "      <td>10.71</td>\n",
       "    </tr>\n",
       "  </tbody>\n",
       "</table>\n",
       "</div>"
      ],
      "text/plain": [
       "                        count         mean        std        min        25%  \\\n",
       "user_id                 100.0  546517.0000  52.295779  546443.00  546467.75   \n",
       "time_spent_on_the_page  100.0       5.3778   2.378166       0.19       3.88   \n",
       "\n",
       "                               50%          75%        max  \n",
       "user_id                 546492.500  546567.2500  546592.00  \n",
       "time_spent_on_the_page       5.415       7.0225      10.71  "
      ]
     },
     "execution_count": 8,
     "metadata": {},
     "output_type": "execute_result"
    }
   ],
   "source": [
    "# Checking the statistical summary of the data\n",
    "df.describe().T"
   ]
  },
  {
   "cell_type": "code",
   "execution_count": 9,
   "id": "36c4a650-1052-482a-9399-4241551733c2",
   "metadata": {},
   "outputs": [
    {
     "data": {
      "text/plain": [
       "user_id                   0\n",
       "group                     0\n",
       "landing_page              0\n",
       "time_spent_on_the_page    0\n",
       "converted                 0\n",
       "language_preferred        0\n",
       "dtype: int64"
      ]
     },
     "execution_count": 9,
     "metadata": {},
     "output_type": "execute_result"
    }
   ],
   "source": [
    "# Checking for missing values \n",
    "df.isnull().sum()"
   ]
  },
  {
   "cell_type": "markdown",
   "id": "4bc1f416-c0aa-4244-bf09-529fb474f3a2",
   "metadata": {},
   "source": [
    "There are no missing values in the dataset"
   ]
  },
  {
   "cell_type": "code",
   "execution_count": 10,
   "id": "49caef16-0cba-413d-887a-f991a5c1ba83",
   "metadata": {},
   "outputs": [
    {
     "data": {
      "text/plain": [
       "0"
      ]
     },
     "execution_count": 10,
     "metadata": {},
     "output_type": "execute_result"
    }
   ],
   "source": [
    "# Checking for duplicates in the dataset\n",
    "df.duplicated().sum()"
   ]
  },
  {
   "cell_type": "markdown",
   "id": "5ac1725a-4b42-4d29-b4fd-dfa901cb746e",
   "metadata": {},
   "source": [
    "There are no duplicates in the dataset."
   ]
  },
  {
   "cell_type": "markdown",
   "id": "68f3b2c9",
   "metadata": {
    "id": "68f3b2c9"
   },
   "source": [
    "### Univariate Analysis"
   ]
  },
  {
   "cell_type": "markdown",
   "id": "c343585b-d90d-441c-aa84-2684f3cc8be9",
   "metadata": {
    "id": "1932d0f3"
   },
   "source": [
    "**Categorical Variables**"
   ]
  },
  {
   "cell_type": "code",
   "execution_count": 11,
   "id": "ad569f7a-d6dc-40b6-92a2-a4453f720e4d",
   "metadata": {},
   "outputs": [
    {
     "data": {
      "text/plain": [
       "group\n",
       "control      50\n",
       "treatment    50\n",
       "Name: count, dtype: int64"
      ]
     },
     "execution_count": 11,
     "metadata": {},
     "output_type": "execute_result"
    }
   ],
   "source": [
    "# Group (Control vs Treatment)\n",
    "df[\"group\"].value_counts()"
   ]
  },
  {
   "cell_type": "code",
   "execution_count": 12,
   "id": "37c57bfe-c20b-45f2-8ba9-7819f361756f",
   "metadata": {},
   "outputs": [
    {
     "data": {
      "image/png": "[encoded data removed]",
      "text/plain": [
       "<Figure size 800x500 with 1 Axes>"
      ]
     },
     "metadata": {},
     "output_type": "display_data"
    }
   ],
   "source": [
    "# Visualization showing group whether control or treatment\n",
    "plt.figure(figsize = (8,5))\n",
    "sns.countplot(data = df, x = \"group\")\n",
    "plt.title(\"Group (Control or Treatment)\")\n",
    "plt.xlabel(\"Group\")\n",
    "plt.ylabel(\"Count\")\n",
    "plt.xticks(rotation = 45)\n",
    "plt.show();"
   ]
  },
  {
   "cell_type": "markdown",
   "id": "b403e64f-a560-42d8-987f-6a74d6e1e65a",
   "metadata": {},
   "source": [
    "The users were divided into two equal groups of 50 that is, control group and treatment group."
   ]
  },
  {
   "cell_type": "code",
   "execution_count": 13,
   "id": "bbeac4fd-bf26-4240-847a-402bbf265850",
   "metadata": {},
   "outputs": [
    {
     "data": {
      "text/plain": [
       "landing_page\n",
       "old    50\n",
       "new    50\n",
       "Name: count, dtype: int64"
      ]
     },
     "execution_count": 13,
     "metadata": {},
     "output_type": "execute_result"
    }
   ],
   "source": [
    "# Landing page (Old vs new)\n",
    "df[\"landing_page\"].value_counts()"
   ]
  },
  {
   "cell_type": "code",
   "execution_count": 14,
   "id": "ac9ac892-9e6f-4293-8fe1-fd137caf844f",
   "metadata": {},
   "outputs": [
    {
     "data": {
      "image/png": "[encoded data removed]",
      "text/plain": [
       "<Figure size 800x500 with 1 Axes>"
      ]
     },
     "metadata": {},
     "output_type": "display_data"
    }
   ],
   "source": [
    "# Visualization showing landing page whether new or old\n",
    "plt.figure(figsize = (8,5))\n",
    "sns.countplot(data = df, x = \"landing_page\", hue = \"group\")\n",
    "plt.title(\"Landing page (New or Old)\")\n",
    "plt.xlabel(\"Landing Page\")\n",
    "plt.ylabel(\"Count\")\n",
    "plt.xticks(rotation = 45)\n",
    "plt.show();"
   ]
  },
  {
   "cell_type": "markdown",
   "id": "55d84258-5ead-4ef3-a164-f127152284d9",
   "metadata": {},
   "source": [
    "The existing landing page was served to the control group whereas the new landing page was served to the treatment group"
   ]
  },
  {
   "cell_type": "code",
   "execution_count": 15,
   "id": "3dfe3f9d-2d82-4404-9d9e-0497eee2043d",
   "metadata": {},
   "outputs": [
    {
     "data": {
      "text/plain": [
       "converted\n",
       "yes    54\n",
       "no     46\n",
       "Name: count, dtype: int64"
      ]
     },
     "execution_count": 15,
     "metadata": {},
     "output_type": "execute_result"
    }
   ],
   "source": [
    "# Checking number of users who converted or not\n",
    "df[\"converted\"].value_counts()"
   ]
  },
  {
   "cell_type": "code",
   "execution_count": 16,
   "id": "51b974c0-c43d-473d-b226-b1d99e4dbfbd",
   "metadata": {},
   "outputs": [
    {
     "data": {
      "image/png": "[encoded data removed]",
      "text/plain": [
       "<Figure size 800x500 with 1 Axes>"
      ]
     },
     "metadata": {},
     "output_type": "display_data"
    }
   ],
   "source": [
    "# Visualization showing number of users who were converted\n",
    "plt.figure(figsize = (8,5))\n",
    "sns.countplot(data = df, x = \"converted\", hue = \"group\")\n",
    "plt.title(\"Observation showing converted users\")\n",
    "plt.xlabel(\"Converted?\")\n",
    "plt.ylabel(\"Count\")\n",
    "plt.xticks(rotation = 45)\n",
    "plt.show();"
   ]
  },
  {
   "cell_type": "markdown",
   "id": "7b8a2c2a-5aaa-4562-ae2c-475533c0b513",
   "metadata": {},
   "source": [
    "54 users were converted whereas 46 were not. A higher proportion of converted users came from the treatment group who were using the new page."
   ]
  },
  {
   "cell_type": "code",
   "execution_count": 17,
   "id": "15327dff-aa35-4401-88b4-04c32c9aae29",
   "metadata": {},
   "outputs": [
    {
     "data": {
      "text/plain": [
       "language_preferred\n",
       "Spanish    34\n",
       "French     34\n",
       "English    32\n",
       "Name: count, dtype: int64"
      ]
     },
     "execution_count": 17,
     "metadata": {},
     "output_type": "execute_result"
    }
   ],
   "source": [
    "# Checking the language preferred by users\n",
    "df[\"language_preferred\"].value_counts()"
   ]
  },
  {
   "cell_type": "code",
   "execution_count": 18,
   "id": "f015e82a-39de-4b7b-9278-830962e5cb2f",
   "metadata": {},
   "outputs": [
    {
     "data": {
      "image/png": "[encoded data removed]",
      "text/plain": [
       "<Figure size 800x500 with 1 Axes>"
      ]
     },
     "metadata": {},
     "output_type": "display_data"
    }
   ],
   "source": [
    "# Visualization showing language preferred by users\n",
    "plt.figure(figsize = (8,5))\n",
    "sns.countplot(data = df, x = \"language_preferred\")\n",
    "plt.title(\"Language preferred by users\")\n",
    "plt.xlabel(\"Language\")\n",
    "plt.ylabel(\"Count\")\n",
    "plt.xticks(rotation = 45)\n",
    "plt.show();"
   ]
  },
  {
   "cell_type": "markdown",
   "id": "6f96679b-ba25-4377-8609-9f3773cdfd63",
   "metadata": {},
   "source": [
    "It's observed that 34 users preferred Spanish, 34 users preferred French and 32 users preferred English."
   ]
  },
  {
   "cell_type": "markdown",
   "id": "9f0afced-0e17-4c50-b01f-d12e474dd3fb",
   "metadata": {},
   "source": [
    "**Numerical variables**"
   ]
  },
  {
   "cell_type": "code",
   "execution_count": 19,
   "id": "e10a6522-51a1-4cec-b169-b77d6c2c4d07",
   "metadata": {},
   "outputs": [
    {
     "data": {
      "image/png": "[encoded data removed]",
      "text/plain": [
       "<Figure size 640x480 with 1 Axes>"
      ]
     },
     "metadata": {},
     "output_type": "display_data"
    },
    {
     "data": {
      "image/png": "[encoded data removed]",
      "text/plain": [
       "<Figure size 640x480 with 1 Axes>"
      ]
     },
     "metadata": {},
     "output_type": "display_data"
    }
   ],
   "source": [
    "# Histogram showing the distribution of time spent on the page\n",
    "sns.histplot(data = df,x = \"time_spent_on_the_page\")\n",
    "plt.title(\"Distribution of the time spent on the page\")\n",
    "plt.xlabel(\"Time spent on page\")\n",
    "plt.ylabel(\"Frequency\")\n",
    "plt.show();\n",
    "\n",
    "# Boxplot showing the time spent on page\n",
    "sns.boxplot(data = df, y = \"time_spent_on_the_page\", showmeans = True)\n",
    "plt.title(\"Time spent on the page Boxplot\")\n",
    "plt.ylabel(\"Time spent on page\")\n",
    "plt.show();"
   ]
  },
  {
   "cell_type": "markdown",
   "id": "0be25e5a-1d34-4823-b7ca-186655362ba9",
   "metadata": {},
   "source": [
    "The histogram follows a normal distribution, with users spending an average of five to six minutes on the page.\n",
    "\n",
    "The boxplot also shows that the mean time spent was between 5 and 6 minutes. The minimum time was less than a minute and the maximum was more than 11 minutes. No outliers were observed, so it could be sais that no user spent an extremely long time on the page."
   ]
  },
  {
   "cell_type": "markdown",
   "id": "fad2de2f",
   "metadata": {
    "id": "fad2de2f"
   },
   "source": [
    "### Bivariate Analysis"
   ]
  },
  {
   "cell_type": "markdown",
   "id": "46230119-5d95-4149-896d-627ee5e6071c",
   "metadata": {
    "id": "58e9a1d0"
   },
   "source": [
    "**Landing page vs Time Spent on Page**"
   ]
  },
  {
   "cell_type": "code",
   "execution_count": 20,
   "id": "f45ac3df-a35e-487e-9df3-229b6461d0a7",
   "metadata": {},
   "outputs": [
    {
     "data": {
      "image/png": "[encoded data removed]",
      "text/plain": [
       "<Figure size 1000x500 with 1 Axes>"
      ]
     },
     "metadata": {},
     "output_type": "display_data"
    }
   ],
   "source": [
    "plt.figure(figsize = (10,5))\n",
    "sns.boxplot(data = df,x = \"landing_page\",y = \"time_spent_on_the_page\", showmeans = True)\n",
    "plt.xticks(rotation=45)\n",
    "plt.title(\"Time Spent on Page vs Landing Page\")\n",
    "plt.xlabel(\"Landing Page\")\n",
    "plt.ylabel(\"Time Spent on Page\")\n",
    "plt.show();"
   ]
  },
  {
   "cell_type": "markdown",
   "id": "9e42962d-d362-4c16-b85f-755d8851df66",
   "metadata": {},
   "source": [
    "It was observed that more time on average was significantly spent in the new page compared to the old page."
   ]
  },
  {
   "cell_type": "markdown",
   "id": "0620eb77-f23a-42cf-9b66-09790bde3980",
   "metadata": {},
   "source": [
    "**Conversion vs Time Spent on Page**"
   ]
  },
  {
   "cell_type": "code",
   "execution_count": 21,
   "id": "b7c25242-a987-4612-bcbd-23b4f455fc5b",
   "metadata": {},
   "outputs": [
    {
     "data": {
      "image/png": "[encoded data removed]",
      "text/plain": [
       "<Figure size 1000x500 with 1 Axes>"
      ]
     },
     "metadata": {},
     "output_type": "display_data"
    }
   ],
   "source": [
    "plt.figure(figsize = (10, 5))\n",
    "sns.boxplot(data = df, x = \"converted\", y = \"time_spent_on_the_page\", showmeans = True)\n",
    "plt.xticks(rotation=45)\n",
    "plt.title(\"Time Spent on Page vs Conversion\")\n",
    "plt.xlabel(\"Converted?\")\n",
    "plt.ylabel(\"Time Spent on Page\")\n",
    "plt.show();"
   ]
  },
  {
   "cell_type": "markdown",
   "id": "77dafeae-c50f-48b5-a977-d1150148bbe6",
   "metadata": {},
   "source": [
    "It was observed that converted users on average spent significantly more time on the page compared to non-converted users."
   ]
  },
  {
   "cell_type": "markdown",
   "id": "a207ac43-aaac-40e6-9f7f-9d9a6dd696f6",
   "metadata": {},
   "source": [
    "**Language Preferred vs Time Spent on Page**"
   ]
  },
  {
   "cell_type": "code",
   "execution_count": 22,
   "id": "48c55cbf-62b3-48f3-8f4f-eb8ea550296a",
   "metadata": {},
   "outputs": [
    {
     "data": {
      "image/png": "[encoded data removed]",
      "text/plain": [
       "<Figure size 1000x500 with 1 Axes>"
      ]
     },
     "metadata": {},
     "output_type": "display_data"
    }
   ],
   "source": [
    "plt.figure(figsize = (10, 5))\n",
    "sns.boxplot(data = df, x = \"language_preferred\", y = \"time_spent_on_the_page\", showmeans = True)\n",
    "plt.xticks(rotation=45)\n",
    "plt.title(\"Time Spent on Page vs Language Preferred\")\n",
    "plt.xlabel(\"Language Preferred\")\n",
    "plt.ylabel(\"Time Spent on Page\")\n",
    "plt.show();"
   ]
  },
  {
   "cell_type": "markdown",
   "id": "761b5c5f-79ca-490e-a799-28f5d004a1a2",
   "metadata": {},
   "source": [
    "It was observed that concerning the language preferred, the users spent around the same time on average on the page."
   ]
  },
  {
   "cell_type": "markdown",
   "id": "27906576",
   "metadata": {
    "id": "27906576"
   },
   "source": [
    "## 1. Do the users spend more time on the new landing page than the existing landing page?"
   ]
  },
  {
   "cell_type": "markdown",
   "id": "e5fdf0c8",
   "metadata": {
    "id": "e5fdf0c8"
   },
   "source": [
    "### Perform Visual Analysis"
   ]
  },
  {
   "cell_type": "code",
   "execution_count": 23,
   "id": "6eZJa41eg21n",
   "metadata": {
    "id": "6eZJa41eg21n"
   },
   "outputs": [
    {
     "data": {
      "image/png": "[encoded data removed]",
      "text/plain": [
       "<Figure size 1000x500 with 1 Axes>"
      ]
     },
     "metadata": {},
     "output_type": "display_data"
    }
   ],
   "source": [
    "plt.figure(figsize = (10, 5))\n",
    "sns.boxplot(data = df, x = \"converted\", y = \"time_spent_on_the_page\",showmeans = True)\n",
    "plt.xticks(rotation=45)\n",
    "plt.title(\"Time Spent on Page vs Conversion\")\n",
    "plt.xlabel(\"Converted?\")\n",
    "plt.ylabel(\"Time Spent on Page\")\n",
    "plt.show();"
   ]
  },
  {
   "cell_type": "markdown",
   "id": "56b3dafd",
   "metadata": {
    "id": "56b3dafd"
   },
   "source": [
    "### Step 1: Define the null and alternate hypotheses"
   ]
  },
  {
   "cell_type": "markdown",
   "id": "d2ac77ef",
   "metadata": {
    "id": "d2ac77ef"
   },
   "source": [
    "> $H_0:$ The mean time spent on the new landing page is less or equal to that on the old landing page. <br>\n",
    "$H_a:$ The mean time spent on the new landing page is greater than that on the old landing page.\n",
    "\n",
    "Let $\\mu_1$ and $\\mu_2$ be the mean time spent on the new landing page and the mean time spent on the old landing page respectively.\n",
    "\n",
    "\n",
    "> $H_0: \\mu_1 <= \\mu_2 $ <br>\n",
    "$H_a: \\mu_1 > \\mu_2 $\n"
   ]
  },
  {
   "cell_type": "markdown",
   "id": "c7ee4907",
   "metadata": {
    "id": "c7ee4907"
   },
   "source": [
    "### Step 2: Select Appropriate test"
   ]
  },
  {
   "cell_type": "markdown",
   "id": "2c183cd7",
   "metadata": {
    "id": "2c183cd7"
   },
   "source": [
    "This is a one tailed test. \n",
    "\n",
    "There are two population means from two independent populations (New and Old page).\n",
    "\n",
    "Moreover, the population standard deviations are unknown to us. \n",
    "\n",
    "Therefore, the most appropriate test would be a 2-sample independent t-test."
   ]
  },
  {
   "cell_type": "markdown",
   "id": "3f58c9a7",
   "metadata": {
    "id": "3f58c9a7"
   },
   "source": [
    "### Step 3: Decide the significance level"
   ]
  },
  {
   "cell_type": "markdown",
   "id": "92d7d7ee",
   "metadata": {
    "id": "92d7d7ee"
   },
   "source": [
    "$\\alpha = 0.05$ as mentioned in the problem statement."
   ]
  },
  {
   "cell_type": "markdown",
   "id": "5fed2eac",
   "metadata": {
    "id": "5fed2eac"
   },
   "source": [
    "### Step 4: Collect and prepare data"
   ]
  },
  {
   "cell_type": "code",
   "execution_count": 24,
   "id": "f5a59495",
   "metadata": {
    "id": "f5a59495"
   },
   "outputs": [],
   "source": [
    "new_page_time = df[df[\"landing_page\"] == \"new\"][\"time_spent_on_the_page\"]\n",
    "\n",
    "old_page_time = df[df[\"landing_page\"] == \"old\"][\"time_spent_on_the_page\"]"
   ]
  },
  {
   "cell_type": "code",
   "execution_count": 25,
   "id": "2244e971-a7ac-4299-ab07-f0f65d7a50ca",
   "metadata": {},
   "outputs": [
    {
     "name": "stdout",
     "output_type": "stream",
     "text": [
      "Sample Std of time spent on the new page is: 1.82\n",
      "Sample Std of time spent on the old page is: 2.58\n"
     ]
    }
   ],
   "source": [
    "print(\"Sample Std of time spent on the new page is:\", round(new_page_time.std(),2))\n",
    "print(\"Sample Std of time spent on the old page is:\", round(old_page_time.std(),2))"
   ]
  },
  {
   "cell_type": "markdown",
   "id": "716dacb3-7a7b-45c4-9dc5-e732ba03bbb8",
   "metadata": {},
   "source": [
    "The sample standard deviations are unequal."
   ]
  },
  {
   "cell_type": "markdown",
   "id": "f5c5258d",
   "metadata": {
    "id": "f5c5258d"
   },
   "source": [
    "### Step 5: Calculate the p-value"
   ]
  },
  {
   "cell_type": "code",
   "execution_count": 26,
   "id": "fac8594a",
   "metadata": {
    "id": "fac8594a"
   },
   "outputs": [
    {
     "name": "stdout",
     "output_type": "stream",
     "text": [
      "The p-value is:  0.0001392381225166549\n"
     ]
    }
   ],
   "source": [
    "from scipy.stats import ttest_ind\n",
    "\n",
    "test_stat, p_value = ttest_ind(new_page_time, old_page_time, equal_var = False, alternative = \"greater\")\n",
    "\n",
    "print(\"The p-value is: \",p_value)"
   ]
  },
  {
   "cell_type": "markdown",
   "id": "359b12f8",
   "metadata": {
    "id": "359b12f8"
   },
   "source": [
    "### Step 6: Compare the p-value with $\\alpha$"
   ]
  },
  {
   "cell_type": "code",
   "execution_count": 27,
   "id": "7be47289",
   "metadata": {
    "id": "7be47289"
   },
   "outputs": [
    {
     "name": "stdout",
     "output_type": "stream",
     "text": [
      "Since the p-value 0.0001392381225166549 is less than the level of significance, we reject the null hypothesis.\n"
     ]
    }
   ],
   "source": [
    "if p_value < 0.05:\n",
    "    print(f\"Since the p-value {p_value} is less than the level of significance, we reject the null hypothesis.\")\n",
    "else:\n",
    "    print(f\"Since the p-value {p_value} is greater than the level of significance, we fail to reject the null hypothesis.\")"
   ]
  },
  {
   "cell_type": "markdown",
   "id": "d9affc84",
   "metadata": {
    "id": "d9affc84"
   },
   "source": [
    "### Step 7:  Draw inference"
   ]
  },
  {
   "cell_type": "markdown",
   "id": "6b16dd4b",
   "metadata": {
    "id": "6b16dd4b"
   },
   "source": [
    "Because the p-value was found to be less than the level of significance (0.05) we reject the null hypothesis. This is because we have enough statistical evidence to show that the mean time spent on the new landing page is greater than the mean time spent on the old landing page."
   ]
  },
  {
   "cell_type": "markdown",
   "id": "1ad0823a",
   "metadata": {
    "id": "1ad0823a"
   },
   "source": [
    "**A similar approach can be followed to answer the other questions.**"
   ]
  },
  {
   "cell_type": "markdown",
   "id": "353e9d24",
   "metadata": {
    "id": "353e9d24"
   },
   "source": [
    "## 2. Is the conversion rate (the proportion of users who visit the landing page and get converted) for the new page greater than the conversion rate for the old page?"
   ]
  },
  {
   "cell_type": "markdown",
   "id": "843cf5d0-01ae-4fb8-b245-fa71ae456973",
   "metadata": {
    "id": "b7f52898"
   },
   "source": [
    "### Perform Visual Analysis"
   ]
  },
  {
   "cell_type": "code",
   "execution_count": 28,
   "id": "85b811c4-694d-42d7-96f4-72ad8849fdf5",
   "metadata": {},
   "outputs": [
    {
     "data": {
      "image/png": "[encoded data removed]",
      "text/plain": [
       "<Figure size 500x800 with 1 Axes>"
      ]
     },
     "metadata": {},
     "output_type": "display_data"
    }
   ],
   "source": [
    "pd.crosstab(df[\"landing_page\"], df[\"converted\"], normalize = \"index\").plot(kind = \"bar\", figsize = (5,8),stacked = True)\n",
    "plt.legend()\n",
    "plt.show();"
   ]
  },
  {
   "cell_type": "markdown",
   "id": "71b5414f-7b05-43fc-8a82-f3d0fc6aafc5",
   "metadata": {},
   "source": [
    "### Step 1: Define the null and alternate hypotheses"
   ]
  },
  {
   "cell_type": "markdown",
   "id": "2cc711ac-45ce-493a-9cff-f364dc4960f9",
   "metadata": {},
   "source": [
    "> $H_0:$ The conversion rate for the new landing page is less or equal to that for the old landing page. <br>\n",
    "$H_a:$ The conversion rate for the new landing page is greater than that for the old landing page.\n",
    "\n",
    "Let $\\mu_1$ and $\\mu_2$ be the conversion rate for the new landing page and the conversion rate for the old landing page respectively.\n",
    "\n",
    "\n",
    "> $H_0: \\mu_1 <= \\mu_2 $ <br>\n",
    "$H_a: \\mu_1 > \\mu_2 $"
   ]
  },
  {
   "cell_type": "markdown",
   "id": "766b35cc-182b-4f37-b858-4b2480aeb386",
   "metadata": {},
   "source": [
    "### Step 2: Select Appropriate test"
   ]
  },
  {
   "cell_type": "markdown",
   "id": "ec6f5f52-6971-418a-91f3-5baef3b2a57c",
   "metadata": {},
   "source": [
    "This is a one-tailed test.\n",
    "\n",
    "It concerns two population PROPORTIONS from two independent populations.\n",
    "\n",
    "Therefore a two proportions z test will be carried out."
   ]
  },
  {
   "cell_type": "markdown",
   "id": "dbc68a93-13bc-43a3-bc70-7dbbc2ed9670",
   "metadata": {},
   "source": [
    "### Step 3: Decide the significance level"
   ]
  },
  {
   "cell_type": "markdown",
   "id": "a67ca9fd-9115-4b46-a849-027005b5449f",
   "metadata": {},
   "source": [
    "$\\alpha = 0.05$ as mentioned in the problem statement."
   ]
  },
  {
   "cell_type": "markdown",
   "id": "6fe6c8ec-1191-425d-a84f-8339281c1310",
   "metadata": {},
   "source": [
    "### Step 4: Collect and prepare data"
   ]
  },
  {
   "cell_type": "code",
   "execution_count": 29,
   "id": "d955c81b-b1a3-40c0-97c8-d476d570c13b",
   "metadata": {},
   "outputs": [
    {
     "name": "stdout",
     "output_type": "stream",
     "text": [
      "The numbers of users in the treatment group who converted are:  33\n",
      "The total number of users in the control group are:  50 \n",
      "\n",
      "The numbers of users in the control group who converted are:  21\n",
      "The total number of users in the control group are:  50\n"
     ]
    }
   ],
   "source": [
    "# Calculating the number of converted users in the treatment group\n",
    "new_converted = df[df[\"group\"] == \"treatment\"][\"converted\"].value_counts()[\"yes\"]\n",
    "\n",
    "# Calculating the total number of users in the treatment group\n",
    "total_treatment = df[df[\"group\"] == \"treatment\"].value_counts().sum()\n",
    "\n",
    "print(\"The numbers of users in the treatment group who converted are: \", new_converted)\n",
    "print(\"The total number of users in the control group are: \",total_treatment,\"\\n\")\n",
    "\n",
    "# Calculating the number of converted users in the control group\n",
    "old_converted = df[df[\"group\"] == \"control\"][\"converted\"].value_counts()[\"yes\"]\n",
    "\n",
    "# Calculating the total number of users in the control group\n",
    "total_control = df[df[\"group\"] == \"control\"].value_counts().sum()\n",
    "\n",
    "print(\"The numbers of users in the control group who converted are: \", old_converted)\n",
    "print(\"The total number of users in the control group are: \",total_control)"
   ]
  },
  {
   "cell_type": "markdown",
   "id": "afe4246f-591c-470b-9c62-cbda0cca6a56",
   "metadata": {},
   "source": [
    "### Step 5: Calculate the p-value"
   ]
  },
  {
   "cell_type": "code",
   "execution_count": 30,
   "id": "6f71291f-e721-4139-a3c4-88dc2831f6b5",
   "metadata": {},
   "outputs": [
    {
     "name": "stdout",
     "output_type": "stream",
     "text": [
      "The p-value is 0.008026308204056278\n"
     ]
    }
   ],
   "source": [
    "from statsmodels.stats.proportion import proportions_ztest\n",
    "\n",
    "# Calculating the p-value\n",
    "test_stat, p_value = proportions_ztest([new_converted, old_converted] , [total_treatment, total_control], alternative = \"larger\")\n",
    "\n",
    "print(\"The p-value is\", p_value)"
   ]
  },
  {
   "cell_type": "markdown",
   "id": "d0827306-e089-4b49-b4fd-d9369c33756e",
   "metadata": {},
   "source": [
    "### Step 6: Compare the p-value with $\\alpha$"
   ]
  },
  {
   "cell_type": "code",
   "execution_count": 31,
   "id": "8b2a214d-a200-4951-8972-dfa070318d8b",
   "metadata": {},
   "outputs": [
    {
     "name": "stdout",
     "output_type": "stream",
     "text": [
      "Since the p-value 0.008026308204056278 is less than the level of significance, we reject the null hypothesis.\n"
     ]
    }
   ],
   "source": [
    "if p_value < 0.05:\n",
    "    print(f\"Since the p-value {p_value} is less than the level of significance, we reject the null hypothesis.\")\n",
    "else:\n",
    "    print(f\"Since the p-value {p_value} is greater than the level of significance, we fail to reject the null hypothesis.\")"
   ]
  },
  {
   "cell_type": "markdown",
   "id": "67601c14-e7b1-4312-9086-15179665637a",
   "metadata": {},
   "source": [
    "### Step 7:  Draw inference"
   ]
  },
  {
   "cell_type": "markdown",
   "id": "64243143-cc11-466c-ae19-f9d350a90f17",
   "metadata": {},
   "source": [
    "Because the p-value was found to be less than the level of significance (0.05) we reject the null hypothesis. This is because we have enough statistical evidence to show that the conversion rate for the new landing page is greater than the conversion rate for the old landing page."
   ]
  },
  {
   "cell_type": "markdown",
   "id": "d49bfa2d",
   "metadata": {
    "id": "d49bfa2d"
   },
   "source": [
    "## 3. Is the conversion and preferred language are independent or related?"
   ]
  },
  {
   "cell_type": "markdown",
   "id": "29fbc8fc-7b68-4109-a5a1-bdbb89b4bbc6",
   "metadata": {
    "id": "b0e63f17"
   },
   "source": [
    "### Perform Visual Analysis"
   ]
  },
  {
   "cell_type": "code",
   "execution_count": 32,
   "id": "81661fd0-de30-4034-88f9-419e23baeb0c",
   "metadata": {},
   "outputs": [
    {
     "data": {
      "image/png": "[encoded data removed]",
      "text/plain": [
       "<Figure size 600x800 with 1 Axes>"
      ]
     },
     "metadata": {},
     "output_type": "display_data"
    }
   ],
   "source": [
    "pd.crosstab(df[\"language_preferred\"],df[\"converted\"],normalize = \"index\").plot(kind = \"bar\", figsize=(6,8), stacked = True)\n",
    "plt.legend()\n",
    "plt.show()"
   ]
  },
  {
   "cell_type": "markdown",
   "id": "8848751f-e92f-4256-bb62-dcf86cb7d17b",
   "metadata": {},
   "source": [
    "### Step 1: Define the null and alternate hypotheses"
   ]
  },
  {
   "cell_type": "markdown",
   "id": "7ab151e8-3818-47d6-8860-62ad6a080f89",
   "metadata": {},
   "source": [
    "> $H_0:$ Conversion and preferred language are independent. <br>\n",
    "$H_a:$ Conversion and preferred language are related."
   ]
  },
  {
   "cell_type": "markdown",
   "id": "9f1a2977-8497-4211-a1df-da6924af901f",
   "metadata": {},
   "source": [
    "### Step 2: Select Appropriate test"
   ]
  },
  {
   "cell_type": "markdown",
   "id": "cf59b107-fb4e-4877-ba2a-4c0e1bf508f3",
   "metadata": {},
   "source": [
    "We are testing the dependence between two categorical variables.\n",
    "\n",
    "Therefore a Chi-square test for independence is the most appropriate."
   ]
  },
  {
   "cell_type": "markdown",
   "id": "42ba5a73-8e2d-4661-a83e-e78d9bce1c08",
   "metadata": {},
   "source": [
    "### Step 3: Decide the significance level"
   ]
  },
  {
   "cell_type": "markdown",
   "id": "97e862bc-b003-4880-8e32-5f273f03c28e",
   "metadata": {},
   "source": [
    "$\\alpha = 0.05$ as mentioned in the problem statement."
   ]
  },
  {
   "cell_type": "markdown",
   "id": "774f9bcf-356c-4aa7-a08b-34130031a522",
   "metadata": {},
   "source": [
    "### Step 4: Collect and prepare data"
   ]
  },
  {
   "cell_type": "code",
   "execution_count": 33,
   "id": "8545bc55-290b-4998-872a-f72e9f7dd2b6",
   "metadata": {},
   "outputs": [
    {
     "data": {
      "text/html": [
       "<div>\n",
       "<style scoped>\n",
       "    .dataframe tbody tr th:only-of-type {\n",
       "        vertical-align: middle;\n",
       "    }\n",
       "\n",
       "    .dataframe tbody tr th {\n",
       "        vertical-align: top;\n",
       "    }\n",
       "\n",
       "    .dataframe thead th {\n",
       "        text-align: right;\n",
       "    }\n",
       "</style>\n",
       "<table border=\"1\" class=\"dataframe\">\n",
       "  <thead>\n",
       "    <tr style=\"text-align: right;\">\n",
       "      <th>converted</th>\n",
       "      <th>no</th>\n",
       "      <th>yes</th>\n",
       "    </tr>\n",
       "    <tr>\n",
       "      <th>language_preferred</th>\n",
       "      <th></th>\n",
       "      <th></th>\n",
       "    </tr>\n",
       "  </thead>\n",
       "  <tbody>\n",
       "    <tr>\n",
       "      <th>English</th>\n",
       "      <td>11</td>\n",
       "      <td>21</td>\n",
       "    </tr>\n",
       "    <tr>\n",
       "      <th>French</th>\n",
       "      <td>19</td>\n",
       "      <td>15</td>\n",
       "    </tr>\n",
       "    <tr>\n",
       "      <th>Spanish</th>\n",
       "      <td>16</td>\n",
       "      <td>18</td>\n",
       "    </tr>\n",
       "  </tbody>\n",
       "</table>\n",
       "</div>"
      ],
      "text/plain": [
       "converted           no  yes\n",
       "language_preferred         \n",
       "English             11   21\n",
       "French              19   15\n",
       "Spanish             16   18"
      ]
     },
     "execution_count": 33,
     "metadata": {},
     "output_type": "execute_result"
    }
   ],
   "source": [
    "contingency_table = pd.crosstab(df[\"language_preferred\"],df[\"converted\"])\n",
    "contingency_table"
   ]
  },
  {
   "cell_type": "markdown",
   "id": "36c9daa7-d7d3-4bd2-b3e3-eb4019416c55",
   "metadata": {},
   "source": [
    "### Step 5: Calculate the p-value"
   ]
  },
  {
   "cell_type": "code",
   "execution_count": 34,
   "id": "f4102122-b356-4b15-9d14-bcf73e3934cd",
   "metadata": {},
   "outputs": [
    {
     "name": "stdout",
     "output_type": "stream",
     "text": [
      "The p-value is 0.2129888748754345\n"
     ]
    }
   ],
   "source": [
    "from scipy.stats import chi2_contingency\n",
    "\n",
    "# Calculating the p-value\n",
    "chi2, p_value, dof, exp_freq = chi2_contingency(contingency_table)\n",
    "\n",
    "print(\"The p-value is\", p_value)"
   ]
  },
  {
   "cell_type": "markdown",
   "id": "68f53262-c3e6-49c9-8958-94c85dfda299",
   "metadata": {},
   "source": [
    "### Step 6: Compare the p-value with $\\alpha$"
   ]
  },
  {
   "cell_type": "code",
   "execution_count": 35,
   "id": "43f69559-7cbb-490b-9214-d855fa2e0b61",
   "metadata": {},
   "outputs": [
    {
     "name": "stdout",
     "output_type": "stream",
     "text": [
      "Since the p-value 0.2129888748754345 is greater than the level of significance, we fail to reject the null hypothesis.\n"
     ]
    }
   ],
   "source": [
    "if p_value < 0.05:\n",
    "    print(f\"Since the p-value {p_value} is less than the level of significance, we reject the null hypothesis.\")\n",
    "else:\n",
    "    print(f\"Since the p-value {p_value} is greater than the level of significance, we fail to reject the null hypothesis.\")"
   ]
  },
  {
   "cell_type": "markdown",
   "id": "f5c068b5-503b-4074-8512-22cfe038d8cb",
   "metadata": {},
   "source": [
    "### Step 7:  Draw inference"
   ]
  },
  {
   "cell_type": "markdown",
   "id": "6f7d94b1-1a1e-4538-b7d8-34d51299221e",
   "metadata": {},
   "source": [
    "Because the p-value was found to be greater than the level of significance (0.05) we fail to reject the null hypothesis. This is because we do not have enough statistical evidence to show that conversion and preferred language are related."
   ]
  },
  {
   "cell_type": "markdown",
   "id": "8d585a90",
   "metadata": {
    "id": "8d585a90"
   },
   "source": [
    "## 4. Is the time spent on the new page same for the different language users?"
   ]
  },
  {
   "cell_type": "markdown",
   "id": "44865e41-2900-4a69-be8a-ce93f35cd959",
   "metadata": {
    "id": "b422f395"
   },
   "source": [
    "### Perform Visual Analysis"
   ]
  },
  {
   "cell_type": "code",
   "execution_count": 36,
   "id": "4c3859ed-9dbe-4053-9ea0-9eb64d28803a",
   "metadata": {},
   "outputs": [],
   "source": [
    "df_new = df[df[\"landing_page\"] == \"new\"]"
   ]
  },
  {
   "cell_type": "code",
   "execution_count": 37,
   "id": "01a62977-0aab-4727-9b49-595d68fa6e9d",
   "metadata": {},
   "outputs": [
    {
     "data": {
      "image/png": "[encoded data removed]",
      "text/plain": [
       "<Figure size 800x800 with 1 Axes>"
      ]
     },
     "metadata": {},
     "output_type": "display_data"
    }
   ],
   "source": [
    "plt.figure(figsize=(8,8))\n",
    "sns.boxplot(data = df_new, x = \"language_preferred\", y = \"time_spent_on_the_page\", showmeans = True)\n",
    "plt.xticks(rotation=45)\n",
    "plt.title(\"Time Spent on New Page vs Language Preferred\")\n",
    "plt.xlabel(\"Language Preferred\")\n",
    "plt.ylabel(\"Time Spent on New Page\")\n",
    "plt.show();"
   ]
  },
  {
   "cell_type": "code",
   "execution_count": 38,
   "id": "86da218d-aef7-47dd-a8df-913b4615de67",
   "metadata": {},
   "outputs": [
    {
     "data": {
      "text/plain": [
       "language_preferred\n",
       "English    6.663750\n",
       "French     6.196471\n",
       "Spanish    5.835294\n",
       "Name: time_spent_on_the_page, dtype: float64"
      ]
     },
     "execution_count": 38,
     "metadata": {},
     "output_type": "execute_result"
    }
   ],
   "source": [
    "df_new.groupby([\"language_preferred\"])[\"time_spent_on_the_page\"].mean()"
   ]
  },
  {
   "cell_type": "markdown",
   "id": "83f0a800-f8f9-4563-b4c4-9fe85c70f85c",
   "metadata": {},
   "source": [
    "### Step 1: Define the null and alternate hypotheses"
   ]
  },
  {
   "cell_type": "markdown",
   "id": "48f56952-4c65-47ec-9bee-973b0df560a4",
   "metadata": {},
   "source": [
    "Let $\\mu_1, \\mu_2, \\mu_3$ be the means of time spent on the new page for language preferred English, French and Spanish respectively.\n",
    "\n",
    "\n",
    "> $H_0$ : $\\mu_1 = \\mu_2 = \\mu_3$\n",
    "\n",
    "> $H_a$ : At least one of the means  of time spent on the new landing page for a language preferred is different"
   ]
  },
  {
   "cell_type": "markdown",
   "id": "7f1ef4ae-6ad7-4645-bfd8-aae0402635a9",
   "metadata": {},
   "source": [
    "### Step 2: Select Appropriate test"
   ]
  },
  {
   "cell_type": "markdown",
   "id": "4ca7a890-443e-4f1e-9319-6abd9c592db9",
   "metadata": {},
   "source": [
    "This concerns more than three population means.\n",
    "\n",
    "One-way ANOVA is the most appropriate test."
   ]
  },
  {
   "cell_type": "markdown",
   "id": "9331688f-9687-4caa-826c-842eb6b35e8f",
   "metadata": {},
   "source": [
    "**Shapiro-Wilk’s test**\n",
    "\n",
    "Testing the null hypothesis\n",
    "\n",
    ">$H_0:$ Time spent on the new page follows a normal distribution\n",
    "\n",
    "against the alternative hypothesis\n",
    "\n",
    ">$H_a:$ Time spent on the new page does not follow a normal distribution"
   ]
  },
  {
   "cell_type": "code",
   "execution_count": 39,
   "id": "4d9868a7-bbe9-4be2-ab55-c869d2fcaf88",
   "metadata": {},
   "outputs": [
    {
     "name": "stdout",
     "output_type": "stream",
     "text": [
      "The p-value is 0.8040040364746845\n"
     ]
    }
   ],
   "source": [
    "# Shapiro-Wilks Test for testing of normality\n",
    "from scipy import stats\n",
    "\n",
    "# Calculating the p-value\n",
    "w, p_value = stats.shapiro(df_new[\"time_spent_on_the_page\"]) \n",
    "print(\"The p-value is\", p_value)"
   ]
  },
  {
   "cell_type": "markdown",
   "id": "befc73cf-5867-4a60-a591-258f9e0440e5",
   "metadata": {},
   "source": [
    "The p-value of the test is found to be larger than the significant value therefore, we fail to reject the null hypothesis."
   ]
  },
  {
   "cell_type": "markdown",
   "id": "c916671b-1062-4552-b398-54a89e7a2f09",
   "metadata": {},
   "source": [
    "**Levene’s test**\n",
    "\n",
    "Testing the null hypothesis\n",
    "\n",
    ">$H_0$: All the population variances are equal\n",
    "\n",
    "against the alternative hypothesis\n",
    "\n",
    ">$H_a$: At least one variance is different from the rest"
   ]
  },
  {
   "cell_type": "code",
   "execution_count": 40,
   "id": "002b5874-5513-4cc6-a312-cdd594c868c3",
   "metadata": {},
   "outputs": [
    {
     "name": "stdout",
     "output_type": "stream",
     "text": [
      "The p-value is 0.46711357711340173\n"
     ]
    }
   ],
   "source": [
    "# Levene Test for testing of variance\n",
    "from scipy.stats import levene\n",
    "statistic, p_value = levene( df_new[\"time_spent_on_the_page\"][df_new[\"language_preferred\"] == \"English\"], \n",
    "                                   df_new[\"time_spent_on_the_page\"][df_new[\"language_preferred\"] == \"French\"], \n",
    "                                   df_new[\"time_spent_on_the_page\"][df_new[\"language_preferred\"] == \"Spanish\"])\n",
    "# Calculating the p-value\n",
    "print(\"The p-value is\", p_value)"
   ]
  },
  {
   "cell_type": "markdown",
   "id": "9367337a-786c-4369-b01f-0927a730891c",
   "metadata": {},
   "source": [
    "The p-value of the test is found to be larger than the significant value therefore, we fail to reject the null hypothesis."
   ]
  },
  {
   "cell_type": "markdown",
   "id": "6d565081-1ebd-46e9-a5cd-e4f7cdf8e62d",
   "metadata": {},
   "source": [
    "### Step 3: Decide the significance level"
   ]
  },
  {
   "cell_type": "markdown",
   "id": "dd2693fd-1e79-46a4-8fff-bade4f8ebb6f",
   "metadata": {},
   "source": [
    "$\\alpha = 0.05$ as mentioned in the problem statement."
   ]
  },
  {
   "cell_type": "markdown",
   "id": "6fb83fb9-631f-46e8-adcf-4b7dfbb11ac6",
   "metadata": {},
   "source": [
    "### Step 4: Collect and prepare data"
   ]
  },
  {
   "cell_type": "code",
   "execution_count": 41,
   "id": "aa7109d1-6d27-4741-b83f-e6deab66250b",
   "metadata": {},
   "outputs": [],
   "source": [
    "time_spent_English = df_new[df_new[\"language_preferred\"] == \"English\"]['time_spent_on_the_page']\n",
    "\n",
    "time_spent_French = df_new[df_new[\"language_preferred\"] == \"French\"]['time_spent_on_the_page']\n",
    "\n",
    "time_spent_Spanish = df_new[df_new[\"language_preferred\"] == \"Spanish\"]['time_spent_on_the_page']   "
   ]
  },
  {
   "cell_type": "markdown",
   "id": "ef22743a-115b-4fe3-a4f2-f60ca37a6682",
   "metadata": {},
   "source": [
    "### Step 5: Calculate the p-value"
   ]
  },
  {
   "cell_type": "code",
   "execution_count": 42,
   "id": "cb5bcb68-721c-4743-92df-3af692dde7be",
   "metadata": {},
   "outputs": [
    {
     "name": "stdout",
     "output_type": "stream",
     "text": [
      "The p-value is 0.43204138694325955\n"
     ]
    }
   ],
   "source": [
    "from scipy.stats import f_oneway\n",
    "\n",
    "# Calculating the p-value\n",
    "test_stat, p_value = f_oneway(time_spent_English, time_spent_French, time_spent_Spanish)   #complete the code by filling appropriate parameters in the blanks\n",
    "\n",
    "print(\"The p-value is\", p_value)"
   ]
  },
  {
   "cell_type": "markdown",
   "id": "131fe40c-5cfd-4032-96d3-5af1d116188d",
   "metadata": {},
   "source": [
    "### Step 6: Compare the p-value with $\\alpha$"
   ]
  },
  {
   "cell_type": "code",
   "execution_count": 43,
   "id": "8c19f038-1321-4625-acb9-3a3113ff2a26",
   "metadata": {},
   "outputs": [
    {
     "name": "stdout",
     "output_type": "stream",
     "text": [
      "Since the p-value 0.43204138694325955 is greater than the level of significance, we fail to reject the null hypothesis.\n"
     ]
    }
   ],
   "source": [
    "if p_value < 0.05:\n",
    "    print(f\"Since the p-value {p_value} is less than the level of significance, we reject the null hypothesis.\")\n",
    "else:\n",
    "    print(f\"Since the p-value {p_value} is greater than the level of significance, we fail to reject the null hypothesis.\")"
   ]
  },
  {
   "cell_type": "markdown",
   "id": "14c002e7-24bc-42fa-a2af-199ad3844527",
   "metadata": {},
   "source": [
    "### Step 7:  Draw inference"
   ]
  },
  {
   "cell_type": "markdown",
   "id": "d13f5d53-035c-46b8-941a-e64c98575bc1",
   "metadata": {},
   "source": [
    "Because the p-value was found to be greater than the level of significance (0.05) we fail to reject the null hypothesis. This is because we do not have enough statistical evidence to show that at least one of the means  of time spent on the new landing page for a language preferred is different."
   ]
  },
  {
   "cell_type": "markdown",
   "id": "3acbc947",
   "metadata": {
    "id": "3acbc947"
   },
   "source": [
    "## Conclusion and Business Recommendations"
   ]
  },
  {
   "cell_type": "markdown",
   "id": "21fb1063",
   "metadata": {
    "id": "21fb1063"
   },
   "source": [
    "#### Conclusion\n",
    "\n",
    "1. Users spend more time on the new landing page. This means that the new page is more engaging in comparison to the old one\n",
    "\n",
    "2. The new landing page has a significantly high conversion rate. This proves the effectiveness of the new page.\n",
    "\n",
    "3. Conversion and language preference are independent. Language has no effect on users' decisions.\n",
    "\n",
    "4. The time spent on the new page does not differ significantly across language groups. Users spend similar amounts of time on the new page regardless of language.\n",
    "\n",
    "#### Business Recommendations\n",
    "\n",
    "1. The new landing page should be fully implemented. Users spend more time on it and the conversion rate is higher.\n",
    "\n",
    "2. Maintain a universal design on the new page as language does not impact the time spent or the conversion rate.\n",
    "\n",
    "3. Add interactive elements to enhance engagement."
   ]
  },
  {
   "cell_type": "markdown",
   "id": "U0dAd4i0iCHo",
   "metadata": {
    "id": "U0dAd4i0iCHo"
   },
   "source": [
    "___"
   ]
  }
 ],
 "metadata": {
  "colab": {
   "collapsed_sections": [
    "6970dd99",
    "9d75cfa2",
    "68f3b2c9",
    "fad2de2f",
    "27906576",
    "e5fdf0c8",
    "56b3dafd",
    "c7ee4907",
    "3f58c9a7",
    "5fed2eac",
    "f5c5258d",
    "359b12f8",
    "d9affc84",
    "353e9d24",
    "d49bfa2d",
    "8d585a90",
    "3acbc947"
   ],
   "provenance": []
  },
  "kernelspec": {
   "display_name": "Python 3 (ipykernel)",
   "language": "python",
   "name": "python3"
  },
  "language_info": {
   "codemirror_mode": {
    "name": "ipython",
    "version": 3
   },
   "file_extension": ".py",
   "mimetype": "text/x-python",
   "name": "python",
   "nbconvert_exporter": "python",
   "pygments_lexer": "ipython3",
   "version": "3.12.4"
  }
 },
 "nbformat": 4,
 "nbformat_minor": 5
}
